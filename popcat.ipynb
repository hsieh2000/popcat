{
 "cells": [
  {
   "cell_type": "code",
   "execution_count": 7,
   "metadata": {},
   "outputs": [],
   "source": [
    "from selenium import webdriver\n",
    "\n",
    "\n",
    "#抓取來源資料\n",
    "chrome_options = webdriver.ChromeOptions()#限制Chrome不跳出通知訊息，以利畫面爬取任務\n",
    "prefs = {'profile.default_content_setting_values.notifications':2}\n",
    "chrome_options.add_experimental_option('prefs',prefs)\n",
    "\n",
    "driver = webdriver.Chrome(chrome_options=chrome_options)#把上面設定的條件加入後再開啟Chrome\n",
    "\n",
    "url = 'https://popcat.click/'\n",
    "driver.get(url)\n",
    "for a in range(10000):\n",
    "    driver.find_element_by_id(\"app\").click()\n",
    "    \n"
   ]
  },
  {
   "cell_type": "code",
   "execution_count": null,
   "metadata": {},
   "outputs": [],
   "source": []
  }
 ],
 "metadata": {
  "kernelspec": {
   "display_name": "Python 3",
   "language": "python",
   "name": "python3"
  },
  "language_info": {
   "codemirror_mode": {
    "name": "ipython",
    "version": 3
   },
   "file_extension": ".py",
   "mimetype": "text/x-python",
   "name": "python",
   "nbconvert_exporter": "python",
   "pygments_lexer": "ipython3",
   "version": "3.7.6"
  }
 },
 "nbformat": 4,
 "nbformat_minor": 4
}
